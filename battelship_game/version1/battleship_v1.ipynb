{
 "cells": [
  {
   "cell_type": "code",
   "execution_count": 9,
   "metadata": {},
   "outputs": [],
   "source": [
    "import random\n",
    "import pprint"
   ]
  },
  {
   "cell_type": "code",
   "execution_count": 10,
   "metadata": {},
   "outputs": [],
   "source": [
    "# DICCIONARIO DE LA FLOTA\n",
    "flota = {'gozzila': 4,\n",
    "    'grande2': 3,\n",
    "    'grande1': 3,\n",
    "    'mediano3': 2,\n",
    "    'mediano2': 2,\n",
    "    'mediano1': 2,\n",
    "    'pequeño4': 1,\n",
    "    'pequeño3': 1,\n",
    "    'pequeño2': 1,\n",
    "    'pequeño1': 1\n",
    "}\n",
    "\n",
    "# Mejor añadir los barcos más grandes primero."
   ]
  },
  {
   "cell_type": "code",
   "execution_count": 750,
   "metadata": {},
   "outputs": [
    {
     "name": "stdout",
     "output_type": "stream",
     "text": [
      "4\n",
      "3\n",
      "3\n",
      "2\n",
      "2\n",
      "2\n",
      "1\n",
      "1\n",
      "1\n",
      "1\n"
     ]
    }
   ],
   "source": [
    "for eslora in flota.values():\n",
    "    print(eslora)"
   ]
  },
  {
   "cell_type": "code",
   "execution_count": 751,
   "metadata": {},
   "outputs": [],
   "source": [
    "fila_inicio = random.randint(0, 9)\n",
    "columna_inicio = random.randint(0, 9)\n",
    "\n",
    "#orientacion = random.choice(['horizontal', 'vertical'])"
   ]
  },
  {
   "cell_type": "code",
   "execution_count": 752,
   "metadata": {},
   "outputs": [
    {
     "data": {
      "text/plain": [
       "dict_keys(['gozzila', 'grande2', 'grande1', 'mediano3', 'mediano2', 'mediano1', 'pequeño4', 'pequeño3', 'pequeño2', 'pequeño1'])"
      ]
     },
     "execution_count": 752,
     "metadata": {},
     "output_type": "execute_result"
    }
   ],
   "source": [
    "flota.keys()"
   ]
  },
  {
   "cell_type": "code",
   "execution_count": 753,
   "metadata": {},
   "outputs": [
    {
     "data": {
      "text/plain": [
       "dict_values([4, 3, 3, 2, 2, 2, 1, 1, 1, 1])"
      ]
     },
     "execution_count": 753,
     "metadata": {},
     "output_type": "execute_result"
    }
   ],
   "source": [
    "flota.values()"
   ]
  },
  {
   "cell_type": "code",
   "execution_count": 754,
   "metadata": {},
   "outputs": [],
   "source": [
    "# ICONOGRAFIA DEL JUEGO\n",
    "mar = \".\"\n",
    "barco = \"b\" \n",
    "disparo_fallado = \"-\"\n",
    "disparo_acertado = \"X\"\n",
    "jugador_1 = \"J1\"\n",
    "jugador_2 = \"J2\"\n"
   ]
  },
  {
   "cell_type": "code",
   "execution_count": 755,
   "metadata": {},
   "outputs": [
    {
     "data": {
      "text/plain": [
       "['.', '.', '.', '.', '.', '.', '.', '.', '.', '.']"
      ]
     },
     "execution_count": 755,
     "metadata": {},
     "output_type": "execute_result"
    }
   ],
   "source": [
    "fila = [\".\" for _ in range(10)]\n",
    "fila"
   ]
  },
  {
   "cell_type": "code",
   "execution_count": 11,
   "metadata": {},
   "outputs": [],
   "source": [
    "# CREA EL TABLERO 10x10\n",
    "def crear_tablero():\n",
    "  tablero = [[\".\" for _ in range(10)] for _ in range(10)]\n",
    "  return tablero"
   ]
  },
  {
   "cell_type": "code",
   "execution_count": 757,
   "metadata": {},
   "outputs": [],
   "source": [
    "# FUNCION SALIR\n",
    "def salir():\n",
    "    tablero_j1,tablero_j2 = salir()\n",
    "    tablero_j1.clear()\n",
    "    tablero_j2.clear()\n",
    "    print(\"Has salido del juego\")\n"
   ]
  },
  {
   "cell_type": "code",
   "execution_count": 758,
   "metadata": {},
   "outputs": [],
   "source": [
    "def añadir_flota(tablero, largura):\n",
    "    tablero = tablero_1\n",
    "    largura = largura\n",
    "\n",
    "    \n",
    "    while True:\n",
    "\n",
    "        fila = int(random.randint(0, 9)) \n",
    "        columna = int(random.randint(0, 9))\n",
    "        \n",
    "    \n",
    "        if tablero[fila][columna] == '.':\n",
    "            break\n",
    "\n",
    "\n",
    "    \n",
    "    while True:\n",
    "        \n",
    "        orientacion = random.choice([\"norte\", \"sur\", \"este\", \"oeste\"])\n",
    "        #orientacion = \"este\"\n",
    "            \n",
    "            \n",
    "\n",
    "        #if eslora == 1: # Si la eslora es 1.\n",
    "            #tablero_1[fila][columna] = \"b\"\n",
    "            #break\n",
    "            \n",
    "        if orientacion == \"norte\":\n",
    "            if (fila - largura)>= 0:\n",
    "                for i in range(largura): # Bucle que lea la eslora y añada en la dirección norte\n",
    "                    \n",
    "                    #if 0 >= fila-i < 9 and 0 <= columna < 9:\n",
    "                    tablero_1[fila - i][columna] = \"b\"\n",
    "                return tablero_1\n",
    "            else:\n",
    "                fila = int(random.randint(0, 9)) \n",
    "                columna = int(random.randint(0, 9))\n",
    "\n",
    "            \n",
    "        elif orientacion == \"sur\": \n",
    "            if (fila + largura) <= 9:\n",
    "                for i in range(largura):\n",
    "                    \n",
    "                    tablero_1[fila + i][columna] = \"b\"\n",
    "                return tablero_1\n",
    "            else:\n",
    "                fila = int(random.randint(0, 9)) \n",
    "                columna = int(random.randint(0, 9))\n",
    "            \n",
    "        elif orientacion == \"este\":\n",
    "            if (columna + largura) <= 9:\n",
    "                for i in range(largura):\n",
    "                    tablero_1[fila][columna + i] = \"b\"\n",
    "                return tablero_1\n",
    "            else:\n",
    "                fila = int(random.randint(0, 9)) \n",
    "                columna = int(random.randint(0, 9))\n",
    "            \n",
    "        else:\n",
    "            if (columna + largura) >= 0:\n",
    "                for i in range(largura):\n",
    "                    if 0 >= fila < 9 and 0 <= columna -i < 9:\n",
    "                        tablero_1[fila][columna - i] = \"b\"\n",
    "            else:\n",
    "                fila = int(random.randint(0, 9)) \n",
    "                columna = int(random.randint(0, 9))\n"
   ]
  },
  {
   "cell_type": "code",
   "execution_count": 759,
   "metadata": {},
   "outputs": [],
   "source": [
    "def good_orientation (fila, columna, tablero):\n",
    "    if tablero[fila][columna] == '.':\n",
    "        return True\n",
    " \n",
    "#luego en el otro si la celda es valida true, sino False y genera otra vez orientacion\n",
    "\n",
    "        "
   ]
  },
  {
   "cell_type": "code",
   "execution_count": 12,
   "metadata": {},
   "outputs": [],
   "source": [
    "# FUNCION QUE AÑADE LA FLOTA DE MANERA ALEATORIA\n",
    "\n",
    "def añadir_flota(tablero, largura):\n",
    "    largura = largura\n",
    "\n",
    "    while True:\n",
    "        fila = int(random.randint(0, 9)) \n",
    "        columna = int(random.randint(0, 9))\n",
    "\n",
    "        if tablero[fila][columna] == '.':\n",
    "            break  # Encuentra una casilla vacía para comenzar\n",
    "    \n",
    "    while True:\n",
    "        orientacion = random.choice([\"norte\", \"sur\", \"este\", \"oeste\"])  # Seleccionar orientación aleatoria\n",
    "\n",
    "        # Llamamos a la función good_orientation para que lo verifique.\n",
    "        if good_orientation(fila, columna, largura, orientacion, tablero):\n",
    "            if orientacion == \"norte\":\n",
    "                for i in range(largura):\n",
    "                    tablero[fila - i][columna] = 'b' # Colocar barco\n",
    "                     \n",
    "            elif orientacion == \"sur\":\n",
    "                for i in range(largura):\n",
    "                    tablero[fila + i][columna] = 'b'\n",
    "\n",
    "            elif orientacion == \"este\":\n",
    "                for i in range(largura):\n",
    "                    tablero[fila][columna + i] = 'b'\n",
    "\n",
    "            elif orientacion == \"oeste\":\n",
    "                for i in range(largura):\n",
    "                    tablero[fila][columna - i] = 'b'\n",
    "\n",
    "            return tablero  # Termina la función si el barco ha sido colocado\n",
    "        \n",
    "        else:\n",
    "            # Si la orientación no es válida, intenta de nuevo con nuevas coordenadas\n",
    "            fila = int(random.randint(0, 9)) \n",
    "            columna = int(random.randint(0, 9))\n"
   ]
  },
  {
   "cell_type": "code",
   "execution_count": 13,
   "metadata": {},
   "outputs": [],
   "source": [
    "# FUNCION QUE ACOTA MÁRGENES DEL TABLERO Y SUPERPOSICIONES DE LOS BARCOS\n",
    "\n",
    "def good_orientation(fila, columna, largura, orientacion, tablero):\n",
    "    if orientacion == \"norte\":\n",
    "        if fila - largura + 1 < 0:  # Verifica que no se sale del tablero al norte.\n",
    "            return False #Porque en la función añadir barcos solo se ejecuta y finalia while True.\n",
    "        \n",
    "        for i in range(largura):\n",
    "            if tablero[fila - i][columna] != '.':  # Comprueba cada casilla para que sea desigual a \"b\"\n",
    "                return False\n",
    "                \n",
    "    elif orientacion == \"sur\":\n",
    "        if fila + largura - 1 > 9:  # Verifica que no se sale del tablero al sur \n",
    "            return False\n",
    "        for i in range(largura):\n",
    "            if tablero[fila + i][columna] != '.':\n",
    "                return False\n",
    "\n",
    "    elif orientacion == \"este\":\n",
    "        if columna + largura + 1 > 9: # Verifica que no se sale del tablero al este\n",
    "            return False\n",
    "        for i in range(largura):\n",
    "            if tablero[fila][columna + i] != '.':\n",
    "                return False\n",
    "\n",
    "    elif orientacion == \"oeste\": \n",
    "        if columna - largura + 1 < 0:  \n",
    "            return False\n",
    "        for i in range(largura):\n",
    "            if tablero[fila][columna - i] != '.':\n",
    "                return False\n",
    "\n",
    "    return True  # Si todas las posiciones son válidas\n"
   ]
  },
  {
   "cell_type": "code",
   "execution_count": 14,
   "metadata": {},
   "outputs": [],
   "source": [
    "def tablero_flota():\n",
    "\n",
    "    tablero = [[\".\" for _ in range(10)] for _ in range(10)]\n",
    "\n",
    "    for largura in flota.values():\n",
    "        añadir_flota(tablero, largura)\n",
    "    \n",
    "    return tablero"
   ]
  },
  {
   "cell_type": "code",
   "execution_count": 763,
   "metadata": {},
   "outputs": [],
   "source": [
    "# FUNCION DISPARAR\n",
    "\n",
    "#def disparar_barcos(tablero):\n",
    "\n",
    "    #fila = int(input(\"Introduce el número de la fila, un número del 0 al 9:\"))\n",
    "    #columna = int(input(\"Introduce el número de la columna, un número del 0 al 9:\"))\n",
    "    \n",
    "    \n",
    "    #while True:\n",
    "        #if 0 <= fila < 10 and 0 <= columna < 10:\n",
    "\n",
    "            #if tablero[fila][columna] == \"b\":\n",
    "                #print(\"Le has dado!\")\n",
    "                #tablero[fila][columna] = \"X\"\n",
    "                #pprint.pprint(tablero)\n",
    "        \n",
    "            #else:\n",
    "                #print(\"Agua!\")\n",
    "                #tablero[fila][columna] = \"-\"\n",
    "                #pprint.pprint(tablero)\n",
    "                #break\n",
    "\n",
    "        "
   ]
  },
  {
   "cell_type": "code",
   "execution_count": 764,
   "metadata": {},
   "outputs": [],
   "source": [
    "# FUNCIÓN DISPARAR AUTOMÁTICO\n",
    "\n",
    "#def disparo_automatico(tablero):\n",
    "    \n",
    "    #while True:\n",
    "        #fila = random.randint(0, 9)\n",
    "        #columna = random.randint(0, 9)\n",
    "        \n",
    "        #if tablero[fila][columna] == \"b\":\n",
    "                #print(\"Te ha dado!\")\n",
    "                #tablero[fila][columna] = \"X\"\n",
    "                #pprint.pprint(tablero)\n",
    "        \n",
    "        #else:\n",
    "            #print(\"Agua! Te has librado\")\n",
    "            #tablero[fila][columna] = \"-\"\n",
    "            #pprint.pprint(tablero)\n",
    "            #break "
   ]
  },
  {
   "cell_type": "code",
   "execution_count": 765,
   "metadata": {},
   "outputs": [],
   "source": [
    "# FUNCION DISPARAR (CON COORDENADAS)\n",
    "#def disparar_barcos(tablero, fila, columna):\n",
    "\n",
    "    #fila = int(input(\"Introduce el número de la fila, un número del 0 al 9:\"))\n",
    "    #columna = int(input(\"Introduce el número de la columna, un número del 0 al 9:\"))\n",
    "\n",
    "    #if 0 <= fila < 10 and 0 <= columna < 10:\n",
    "\n",
    "        #if tablero[fila][columna] == \"b\":\n",
    "            #print(\"Le has dado!\")\n",
    "            #tablero[fila][columna] = \"X\"\n",
    "            #resultado = True\n",
    "        \n",
    "        #else:\n",
    "            #print(\"Agua!\")\n",
    "            #tablero[fila][columna] = \"-\"\n",
    "            #resultado = False\n",
    "        \n",
    "\n",
    "        #return tablero, fila, columna"
   ]
  },
  {
   "cell_type": "code",
   "execution_count": 66,
   "metadata": {},
   "outputs": [],
   "source": [
    "# FUNCION DISPARAR (CON COORDENADAS)\n",
    "def disparar_barcos(tablero):\n",
    "\n",
    "    fila = int(input(\"Introduce el número de la fila, un número del 0 al 9:\"))\n",
    "    columna = int(input(\"Introduce el número de la columna, un número del 0 al 9:\"))\n",
    "        \n",
    "    if 0 <= fila < 10 and 0 <= columna < 10:\n",
    "\n",
    "        if tablero[fila][columna] == \"b\":\n",
    "            print(\"Le has dado!\")\n",
    "            tablero[fila][columna] = \"X\"\n",
    "            resultado = \"X\"\n",
    "            \n",
    "        else:\n",
    "            print(\"Agua!\")\n",
    "            tablero[fila][columna] = \"-\"\n",
    "            resultado = \"-\"\n",
    "            \n",
    "        \n",
    "    return fila, columna, resultado\n"
   ]
  },
  {
   "cell_type": "code",
   "execution_count": 64,
   "metadata": {},
   "outputs": [],
   "source": [
    "# FUNCIÓN DISPARAR AUTOMÁTICO\n",
    "\n",
    "def disparo_automatico(tablero): # El ordenador me dispara a mi.\n",
    "    \n",
    "    fila = random.randint(0, 9)\n",
    "    columna = random.randint(0, 9)\n",
    "   \n",
    "    if 0 <= fila < 10 and 0 <= columna < 10:\n",
    "    \n",
    "\n",
    "        if tablero[fila][columna] == \"b\":\n",
    "            print(\"Te ha dado!\")\n",
    "            tablero[fila][columna] = \"X\"\n",
    "            resultado = \"X\"\n",
    "\n",
    "        else:\n",
    "            print(\"Agua!\")\n",
    "            tablero[fila][columna] = \"-\"\n",
    "            resultado = \"-\"\n",
    "            \n",
    "\n",
    "    return tablero\n",
    "\n"
   ]
  },
  {
   "cell_type": "code",
   "execution_count": 23,
   "metadata": {},
   "outputs": [],
   "source": [
    "# FUNCION ACTUALIZAR TABLERO\n",
    "\n",
    "def actualizar_tablero(tablero, play_board, fila, columna, resultado): #Actualiza el tablero del ordenador y me devuelve un tablero con el disparo hecho.\n",
    "    # Si fue un acierto (\"X\" por barco hundido)\n",
    "    if resultado:\n",
    "        tablero[fila][columna] = \"X\"  # Actualiza el tablero original del oponente\n",
    "        play_board[fila][columna] = \"X\"  # Actualiza el tablero visible para el jugador\n",
    "        print(\"¡Le has dado a un barco!\")\n",
    "    \n",
    "    else:\n",
    "        print(\"¡Agua! No has dado a ningún barco.\")\n",
    "        tablero[fila][columna] = \"-\"\n",
    "        play_board[fila][columna] = \"-\"  # Actualiza el tablero visible para el jugador\n",
    "    \n",
    "    pprint.pprint(play_board)\n",
    "        \n",
    "\n"
   ]
  },
  {
   "cell_type": "code",
   "execution_count": 17,
   "metadata": {},
   "outputs": [],
   "source": [
    "# FUNCION VERIFICAR GANADOR O NO\n",
    "    \n",
    "def counter(tablero):\n",
    "    contador = 0  \n",
    "\n",
    "   \n",
    "    for fila in tablero:\n",
    "        for celda in fila:\n",
    "            if celda == \"X\": \n",
    "                contador += 1  \n",
    "\n",
    "    return contador\n"
   ]
  },
  {
   "cell_type": "code",
   "execution_count": 18,
   "metadata": {},
   "outputs": [],
   "source": [
    "import time"
   ]
  },
  {
   "cell_type": "code",
   "execution_count": 47,
   "metadata": {},
   "outputs": [],
   "source": [
    "def jugar():\n",
    "\n",
    "    tablero_jugador = tablero_flota()  # Tablero de barcos del jugador\n",
    "    tablero_computer = tablero_flota()  # Tablero de barcos de la computadora\n",
    "    play_board = crear_tablero()  # Tablero donde el jugador verá sus disparos al oponente\n",
    "    \n",
    "    x_computer = 0  \n",
    "    x_jugador = 0   \n",
    "    \n",
    "\n",
    "    while not (x_computer >= 20 or x_jugador >= 20):\n",
    "\n",
    "        # Yo disparo con coordenadas.\n",
    "        \n",
    "        print(\"Es tu turno de disparar.\")\n",
    "        fila, columna, resultado = disparar_barcos(tablero_computer) # Disparar barco es mi tiro.\n",
    "        print(f\"Has disparado a la fila {fila}, columna {columna}\")\n",
    "        \n",
    "        # Actualizamos el tablero del computer y el play_board.\n",
    "        actualizar_tablero(tablero_computer, play_board, fila, columna, resultado)\n",
    "\n",
    "        # Actualizamos mi contador de aciertos\n",
    "        x_computer = counter(tablero_computer)\n",
    "\n",
    "        if x_computer >= 20: # Verificamos que no he ganado\n",
    "            print(\"¡Has ganado!\")\n",
    "            break  # Sale del bucle y termina el juego si el jugador ha ganado\n",
    "        \n",
    "        else:\n",
    "            print(f\"Te faltan {20 - x_computer} aciertos para ganar.\")\n",
    "        \n",
    "        \n",
    "\n",
    "        # Turno de la computer\n",
    "        print(\"¡Es el turno de tu oponente!\")\n",
    "        tablero_jugador = disparo_automatico(tablero_jugador)\n",
    "        \n",
    "        # Actualizamos el contador de aciertos de la computadora\n",
    "        x_jugador = counter(tablero_jugador)\n",
    "        \n",
    "\n",
    "        # Verificamos si ha ganado\n",
    "        if x_jugador >= 20:\n",
    "            print(\"Has perdido, la computadora ha ganado.\")\n",
    "            break  \n",
    "\n",
    "        # Imprime el ciclo del juego y los tableros actualizados\n",
    "        print(\"Estado actual del juego:\")\n",
    "        print(\"Tu tablero:\")\n",
    "        pprint.pprint(tablero_jugador)\n",
    "        print(\"Tus disparos:\")\n",
    "        pprint.pprint(play_board)\n",
    "        print(f\"Te faltan {20 - x_computer} aciertos para ganar.\")\n",
    "        print(f\"Tu oponente te ha dado {x_jugador} golpes.\")\n"
   ]
  },
  {
   "cell_type": "code",
   "execution_count": 65,
   "metadata": {},
   "outputs": [
    {
     "name": "stdout",
     "output_type": "stream",
     "text": [
      "Es tu turno de disparar.\n",
      "Agua!\n",
      "Has disparado a la fila 3, columna 4\n",
      "¡Le has dado a un barco!\n",
      "[['.', '.', '.', '.', '.', '.', '.', '.', '.', '.'],\n",
      " ['.', '.', '.', '.', '.', '.', '.', '.', '.', '.'],\n",
      " ['.', '.', '.', '.', '.', '.', '.', '.', '.', '.'],\n",
      " ['.', '.', '.', '.', 'X', '.', '.', '.', '.', '.'],\n",
      " ['.', '.', '.', '.', '.', '.', '.', '.', '.', '.'],\n",
      " ['.', '.', '.', '.', '.', '.', '.', '.', '.', '.'],\n",
      " ['.', '.', '.', '.', '.', '.', '.', '.', '.', '.'],\n",
      " ['.', '.', '.', '.', '.', '.', '.', '.', '.', '.'],\n",
      " ['.', '.', '.', '.', '.', '.', '.', '.', '.', '.'],\n",
      " ['.', '.', '.', '.', '.', '.', '.', '.', '.', '.']]\n",
      "Te faltan 19 aciertos para ganar.\n",
      "¡Es el turno de tu oponente!\n",
      "Agua!\n",
      "Estado actual del juego:\n",
      "Tu tablero:\n",
      "[['.', '.', 'b', 'b', '.', 'b', '.', '-', '.', '.'],\n",
      " ['.', '.', 'b', 'b', '.', 'b', '.', '.', '.', '.'],\n",
      " ['.', '.', '.', '.', '.', 'b', '.', '.', '.', '.'],\n",
      " ['b', '.', '.', '.', 'b', 'b', 'b', 'b', '.', '.'],\n",
      " ['.', '.', '.', 'b', 'b', '.', '.', '.', '.', '.'],\n",
      " ['.', '.', '.', '.', '.', '.', '.', '.', '.', '.'],\n",
      " ['.', '.', '.', '.', 'b', '.', '.', '.', '.', '.'],\n",
      " ['.', 'b', 'b', 'b', '.', '.', '.', '.', '.', '.'],\n",
      " ['.', '.', '.', '.', '.', '.', '.', '.', '.', '.'],\n",
      " ['.', '.', 'b', '.', '.', '.', 'b', '.', '.', '.']]\n",
      "Tus disparos:\n",
      "[['.', '.', '.', '.', '.', '.', '.', '.', '.', '.'],\n",
      " ['.', '.', '.', '.', '.', '.', '.', '.', '.', '.'],\n",
      " ['.', '.', '.', '.', '.', '.', '.', '.', '.', '.'],\n",
      " ['.', '.', '.', '.', 'X', '.', '.', '.', '.', '.'],\n",
      " ['.', '.', '.', '.', '.', '.', '.', '.', '.', '.'],\n",
      " ['.', '.', '.', '.', '.', '.', '.', '.', '.', '.'],\n",
      " ['.', '.', '.', '.', '.', '.', '.', '.', '.', '.'],\n",
      " ['.', '.', '.', '.', '.', '.', '.', '.', '.', '.'],\n",
      " ['.', '.', '.', '.', '.', '.', '.', '.', '.', '.'],\n",
      " ['.', '.', '.', '.', '.', '.', '.', '.', '.', '.']]\n",
      "Te faltan 19 aciertos para ganar.\n",
      "Tu oponente te ha dado 0 golpes.\n",
      "Es tu turno de disparar.\n"
     ]
    },
    {
     "ename": "KeyboardInterrupt",
     "evalue": "Interrupted by user",
     "output_type": "error",
     "traceback": [
      "\u001b[0;31m---------------------------------------------------------------------------\u001b[0m",
      "\u001b[0;31mKeyboardInterrupt\u001b[0m                         Traceback (most recent call last)",
      "Cell \u001b[0;32mIn[65], line 1\u001b[0m\n\u001b[0;32m----> 1\u001b[0m \u001b[43mjugar\u001b[49m\u001b[43m(\u001b[49m\u001b[43m)\u001b[49m\n",
      "Cell \u001b[0;32mIn[47], line 16\u001b[0m, in \u001b[0;36mjugar\u001b[0;34m()\u001b[0m\n\u001b[1;32m     11\u001b[0m \u001b[38;5;28;01mwhile\u001b[39;00m \u001b[38;5;129;01mnot\u001b[39;00m (x_computer \u001b[38;5;241m>\u001b[39m\u001b[38;5;241m=\u001b[39m \u001b[38;5;241m20\u001b[39m \u001b[38;5;129;01mor\u001b[39;00m x_jugador \u001b[38;5;241m>\u001b[39m\u001b[38;5;241m=\u001b[39m \u001b[38;5;241m20\u001b[39m):\n\u001b[1;32m     12\u001b[0m \n\u001b[1;32m     13\u001b[0m     \u001b[38;5;66;03m# Yo disparo con coordenadas.\u001b[39;00m\n\u001b[1;32m     15\u001b[0m     \u001b[38;5;28mprint\u001b[39m(\u001b[38;5;124m\"\u001b[39m\u001b[38;5;124mEs tu turno de disparar.\u001b[39m\u001b[38;5;124m\"\u001b[39m)\n\u001b[0;32m---> 16\u001b[0m     fila, columna, resultado \u001b[38;5;241m=\u001b[39m \u001b[43mdisparar_barcos\u001b[49m\u001b[43m(\u001b[49m\u001b[43mtablero_computer\u001b[49m\u001b[43m)\u001b[49m \u001b[38;5;66;03m# Disparar barco es mi tiro.\u001b[39;00m\n\u001b[1;32m     17\u001b[0m     \u001b[38;5;28mprint\u001b[39m(\u001b[38;5;124mf\u001b[39m\u001b[38;5;124m\"\u001b[39m\u001b[38;5;124mHas disparado a la fila \u001b[39m\u001b[38;5;132;01m{\u001b[39;00mfila\u001b[38;5;132;01m}\u001b[39;00m\u001b[38;5;124m, columna \u001b[39m\u001b[38;5;132;01m{\u001b[39;00mcolumna\u001b[38;5;132;01m}\u001b[39;00m\u001b[38;5;124m\"\u001b[39m)\n\u001b[1;32m     19\u001b[0m     \u001b[38;5;66;03m# Actualizamos el tablero del computer y el play_board.\u001b[39;00m\n",
      "Cell \u001b[0;32mIn[63], line 6\u001b[0m, in \u001b[0;36mdisparar_barcos\u001b[0;34m(tablero)\u001b[0m\n\u001b[1;32m      3\u001b[0m resultado \u001b[38;5;241m=\u001b[39m \u001b[38;5;124m\"\u001b[39m\u001b[38;5;124mX\u001b[39m\u001b[38;5;124m\"\u001b[39m\n\u001b[1;32m      4\u001b[0m \u001b[38;5;28;01mwhile\u001b[39;00m resultado \u001b[38;5;241m==\u001b[39m \u001b[38;5;124m\"\u001b[39m\u001b[38;5;124mX\u001b[39m\u001b[38;5;124m\"\u001b[39m:\n\u001b[0;32m----> 6\u001b[0m     fila \u001b[38;5;241m=\u001b[39m \u001b[38;5;28mint\u001b[39m(\u001b[38;5;28;43minput\u001b[39;49m\u001b[43m(\u001b[49m\u001b[38;5;124;43m\"\u001b[39;49m\u001b[38;5;124;43mIntroduce el número de la fila, un número del 0 al 9:\u001b[39;49m\u001b[38;5;124;43m\"\u001b[39;49m\u001b[43m)\u001b[49m)\n\u001b[1;32m      7\u001b[0m     columna \u001b[38;5;241m=\u001b[39m \u001b[38;5;28mint\u001b[39m(\u001b[38;5;28minput\u001b[39m(\u001b[38;5;124m\"\u001b[39m\u001b[38;5;124mIntroduce el número de la columna, un número del 0 al 9:\u001b[39m\u001b[38;5;124m\"\u001b[39m))\n\u001b[1;32m      9\u001b[0m     \u001b[38;5;28;01mif\u001b[39;00m \u001b[38;5;241m0\u001b[39m \u001b[38;5;241m<\u001b[39m\u001b[38;5;241m=\u001b[39m fila \u001b[38;5;241m<\u001b[39m \u001b[38;5;241m10\u001b[39m \u001b[38;5;129;01mand\u001b[39;00m \u001b[38;5;241m0\u001b[39m \u001b[38;5;241m<\u001b[39m\u001b[38;5;241m=\u001b[39m columna \u001b[38;5;241m<\u001b[39m \u001b[38;5;241m10\u001b[39m:\n",
      "File \u001b[0;32m~/Library/Python/3.9/lib/python/site-packages/ipykernel/kernelbase.py:1282\u001b[0m, in \u001b[0;36mKernel.raw_input\u001b[0;34m(self, prompt)\u001b[0m\n\u001b[1;32m   1280\u001b[0m     msg \u001b[38;5;241m=\u001b[39m \u001b[38;5;124m\"\u001b[39m\u001b[38;5;124mraw_input was called, but this frontend does not support input requests.\u001b[39m\u001b[38;5;124m\"\u001b[39m\n\u001b[1;32m   1281\u001b[0m     \u001b[38;5;28;01mraise\u001b[39;00m StdinNotImplementedError(msg)\n\u001b[0;32m-> 1282\u001b[0m \u001b[38;5;28;01mreturn\u001b[39;00m \u001b[38;5;28;43mself\u001b[39;49m\u001b[38;5;241;43m.\u001b[39;49m\u001b[43m_input_request\u001b[49m\u001b[43m(\u001b[49m\n\u001b[1;32m   1283\u001b[0m \u001b[43m    \u001b[49m\u001b[38;5;28;43mstr\u001b[39;49m\u001b[43m(\u001b[49m\u001b[43mprompt\u001b[49m\u001b[43m)\u001b[49m\u001b[43m,\u001b[49m\n\u001b[1;32m   1284\u001b[0m \u001b[43m    \u001b[49m\u001b[38;5;28;43mself\u001b[39;49m\u001b[38;5;241;43m.\u001b[39;49m\u001b[43m_parent_ident\u001b[49m\u001b[43m[\u001b[49m\u001b[38;5;124;43m\"\u001b[39;49m\u001b[38;5;124;43mshell\u001b[39;49m\u001b[38;5;124;43m\"\u001b[39;49m\u001b[43m]\u001b[49m\u001b[43m,\u001b[49m\n\u001b[1;32m   1285\u001b[0m \u001b[43m    \u001b[49m\u001b[38;5;28;43mself\u001b[39;49m\u001b[38;5;241;43m.\u001b[39;49m\u001b[43mget_parent\u001b[49m\u001b[43m(\u001b[49m\u001b[38;5;124;43m\"\u001b[39;49m\u001b[38;5;124;43mshell\u001b[39;49m\u001b[38;5;124;43m\"\u001b[39;49m\u001b[43m)\u001b[49m\u001b[43m,\u001b[49m\n\u001b[1;32m   1286\u001b[0m \u001b[43m    \u001b[49m\u001b[43mpassword\u001b[49m\u001b[38;5;241;43m=\u001b[39;49m\u001b[38;5;28;43;01mFalse\u001b[39;49;00m\u001b[43m,\u001b[49m\n\u001b[1;32m   1287\u001b[0m \u001b[43m\u001b[49m\u001b[43m)\u001b[49m\n",
      "File \u001b[0;32m~/Library/Python/3.9/lib/python/site-packages/ipykernel/kernelbase.py:1325\u001b[0m, in \u001b[0;36mKernel._input_request\u001b[0;34m(self, prompt, ident, parent, password)\u001b[0m\n\u001b[1;32m   1322\u001b[0m \u001b[38;5;28;01mexcept\u001b[39;00m \u001b[38;5;167;01mKeyboardInterrupt\u001b[39;00m:\n\u001b[1;32m   1323\u001b[0m     \u001b[38;5;66;03m# re-raise KeyboardInterrupt, to truncate traceback\u001b[39;00m\n\u001b[1;32m   1324\u001b[0m     msg \u001b[38;5;241m=\u001b[39m \u001b[38;5;124m\"\u001b[39m\u001b[38;5;124mInterrupted by user\u001b[39m\u001b[38;5;124m\"\u001b[39m\n\u001b[0;32m-> 1325\u001b[0m     \u001b[38;5;28;01mraise\u001b[39;00m \u001b[38;5;167;01mKeyboardInterrupt\u001b[39;00m(msg) \u001b[38;5;28;01mfrom\u001b[39;00m \u001b[38;5;28;01mNone\u001b[39;00m\n\u001b[1;32m   1326\u001b[0m \u001b[38;5;28;01mexcept\u001b[39;00m \u001b[38;5;167;01mException\u001b[39;00m:\n\u001b[1;32m   1327\u001b[0m     \u001b[38;5;28mself\u001b[39m\u001b[38;5;241m.\u001b[39mlog\u001b[38;5;241m.\u001b[39mwarning(\u001b[38;5;124m\"\u001b[39m\u001b[38;5;124mInvalid Message:\u001b[39m\u001b[38;5;124m\"\u001b[39m, exc_info\u001b[38;5;241m=\u001b[39m\u001b[38;5;28;01mTrue\u001b[39;00m)\n",
      "\u001b[0;31mKeyboardInterrupt\u001b[0m: Interrupted by user"
     ]
    }
   ],
   "source": [
    "jugar()"
   ]
  },
  {
   "cell_type": "code",
   "execution_count": 636,
   "metadata": {},
   "outputs": [],
   "source": [
    "# MAIN MENU\n",
    "\n",
    "def presenta_menu():# Sin parametros\n",
    "    print(\"¡Bienvenido a hundir la flota! ¿Qué quieres hacer?\")\n",
    "    print(f\"'1'- jugar\")\n",
    "    print(f\"'2'- salir\")\n",
    "\n",
    "    opcion = input(\"Elige opción:\")\n",
    "    return opcion\n"
   ]
  },
  {
   "cell_type": "code",
   "execution_count": 663,
   "metadata": {},
   "outputs": [
    {
     "name": "stdout",
     "output_type": "stream",
     "text": [
      "¡Bienvenido a hundir la flota! ¿Qué quieres hacer?\n",
      "'1'- jugar\n",
      "'2'- salir\n",
      "[['b', '.', '.', '.', '.', '.', '.', '.', '.', '.'],\n",
      " ['.', '.', '.', '.', 'b', 'b', '.', '.', '.', '.'],\n",
      " ['.', '.', '.', '.', 'b', 'b', '.', '.', '.', '.'],\n",
      " ['.', '.', '.', '.', '.', 'b', '.', '.', '.', '.'],\n",
      " ['.', '.', '.', '.', '.', '.', '.', '.', '.', '.'],\n",
      " ['.', '.', '.', '.', 'b', 'b', 'b', 'b', '.', '.'],\n",
      " ['.', '.', '.', 'b', '.', 'b', '.', '.', '.', 'b'],\n",
      " ['b', '.', '.', 'b', '.', 'b', '.', '.', '.', '.'],\n",
      " ['.', '.', '.', '.', '.', '.', '.', '.', 'b', '.'],\n",
      " ['.', '.', '.', '.', '.', '.', '.', 'b', 'b', 'b']]\n",
      "\n",
      "[['.', '.', '.', '.', '.', '.', 'b', '.', '.', '.'],\n",
      " ['.', 'b', 'b', '.', '.', '.', '.', '.', '.', '.'],\n",
      " ['.', '.', '.', '.', '.', '.', 'b', '.', '.', '.'],\n",
      " ['.', '.', '.', '.', 'b', 'b', 'b', '.', '.', '.'],\n",
      " ['.', '.', '.', '.', '.', '.', 'b', '.', '.', '.'],\n",
      " ['.', '.', '.', '.', '.', '.', '.', '.', '.', '.'],\n",
      " ['.', 'b', 'b', 'b', '.', '.', '.', '.', 'b', '.'],\n",
      " ['.', '.', '.', '.', '.', '.', '.', '.', '.', '.'],\n",
      " ['.', '.', '.', '.', '.', 'b', '.', 'b', '.', 'b'],\n",
      " ['.', '.', 'b', 'b', 'b', 'b', '.', 'b', '.', '.']]\n"
     ]
    }
   ],
   "source": [
    "# LLAMAR AL MENU, EMPEZAR A JUGAR\n",
    "\n",
    "while True:\n",
    "\n",
    "    opcion = presenta_menu()\n",
    "\n",
    "    if opcion == \"2\":\n",
    "        print(\"Has salido del juego.\")\n",
    "        break\n",
    "\n",
    "    elif opcion == \"1\":\n",
    "        tablero_jugador,tablero_computer = jugar()\n",
    "        pprint.pprint(tablero)\n",
    "        print()\n",
    "        pprint.pprint(tablero)\n",
    "        break\n",
    "    \n",
    "    else: \n",
    "        print(\"El opción que has introducido no es válida.\")\n",
    "        break\n",
    "\n"
   ]
  },
  {
   "cell_type": "code",
   "execution_count": 659,
   "metadata": {},
   "outputs": [
    {
     "name": "stdout",
     "output_type": "stream",
     "text": [
      "[['.', '.', '.', '.', '.', '.', '.', '.', '.', '.'],\n",
      " ['.', '.', '.', '.', '.', '.', '.', '.', '.', '.'],\n",
      " ['b', '.', '.', 'b', '.', '.', '.', '.', 'b', '.'],\n",
      " ['b', 'b', '.', 'b', '.', 'b', '.', '.', 'b', '.'],\n",
      " ['.', '.', '.', 'b', '.', '.', 'b', '.', '.', '.'],\n",
      " ['.', '.', '.', '.', '.', '.', '.', '.', '.', '.'],\n",
      " ['.', '.', 'b', '.', 'b', '.', 'b', 'b', '.', '.'],\n",
      " ['.', '.', '.', '.', 'b', '.', 'b', '.', '.', '.'],\n",
      " ['.', '.', '.', '.', 'b', '.', 'b', '.', '.', '.'],\n",
      " ['.', '.', '.', '.', 'b', '.', 'b', '.', '.', '.']]\n",
      "\n",
      "[['.', '.', '.', '.', '.', '.', '.', '.', '.', '.'],\n",
      " ['.', 'b', '.', '.', '.', 'b', '.', '.', '.', '.'],\n",
      " ['b', 'b', 'b', '.', '.', 'b', '.', '.', '.', '.'],\n",
      " ['b', 'b', 'b', '.', '.', 'b', '.', '.', '.', '.'],\n",
      " ['b', 'b', '.', '.', '.', '.', '.', '.', '.', '.'],\n",
      " ['b', 'b', '.', '.', '.', 'b', 'b', '.', '.', '.'],\n",
      " ['b', '.', '.', '.', '.', '.', '.', '.', '.', '.'],\n",
      " ['.', '.', '.', '.', '.', '.', '.', '.', '.', '.'],\n",
      " ['.', 'b', '.', '.', '.', '.', '.', '.', '.', '.'],\n",
      " ['.', 'b', 'b', '.', '.', '.', '.', '.', '.', '.']]\n"
     ]
    }
   ],
   "source": [
    "tablero_j1,tablero_j2 = jugar()\n",
    "pprint.pprint(tablero_j1)\n",
    "print()\n",
    "pprint.pprint(tablero_j2)\n"
   ]
  },
  {
   "cell_type": "code",
   "execution_count": null,
   "metadata": {},
   "outputs": [],
   "source": [
    "# CREA EL TABLERO 10x10\n",
    "def crear_tablero():\n",
    "  [[\".\" for _ in range(10)] for _ in range(10)]"
   ]
  }
 ],
 "metadata": {
  "kernelspec": {
   "display_name": "Python 3",
   "language": "python",
   "name": "python3"
  },
  "language_info": {
   "codemirror_mode": {
    "name": "ipython",
    "version": 3
   },
   "file_extension": ".py",
   "mimetype": "text/x-python",
   "name": "python",
   "nbconvert_exporter": "python",
   "pygments_lexer": "ipython3",
   "version": "3.9.6"
  }
 },
 "nbformat": 4,
 "nbformat_minor": 2
}

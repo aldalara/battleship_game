{
 "cells": [
  {
   "cell_type": "code",
   "execution_count": 525,
   "metadata": {},
   "outputs": [],
   "source": [
    "import random\n",
    "import pprint"
   ]
  },
  {
   "cell_type": "code",
   "execution_count": 400,
   "metadata": {},
   "outputs": [],
   "source": [
    "# DICCIONARIO DE LA FLOTA\n",
    "flota = {'gozzila': 4,\n",
    "    'grande2': 3,\n",
    "    'grande1': 3,\n",
    "    'mediano3': 2,\n",
    "    'mediano2': 2,\n",
    "    'mediano1': 2,\n",
    "    'pequeño4': 1,\n",
    "    'pequeño3': 1,\n",
    "    'pequeño2': 1,\n",
    "    'pequeño1': 1\n",
    "}\n",
    "\n",
    "# Mejor añadir los barcos más grandes primero."
   ]
  },
  {
   "cell_type": "code",
   "execution_count": 503,
   "metadata": {},
   "outputs": [
    {
     "name": "stdout",
     "output_type": "stream",
     "text": [
      "4\n",
      "3\n",
      "3\n",
      "2\n",
      "2\n",
      "2\n",
      "1\n",
      "1\n",
      "1\n",
      "1\n"
     ]
    }
   ],
   "source": [
    "for eslora in flota.values():\n",
    "    print(eslora)"
   ]
  },
  {
   "cell_type": "code",
   "execution_count": 176,
   "metadata": {},
   "outputs": [],
   "source": [
    "fila_inicio = random.randint(0, 9)\n",
    "columna_inicio = random.randint(0, 9)\n",
    "\n",
    "#orientacion = random.choice(['horizontal', 'vertical'])"
   ]
  },
  {
   "cell_type": "code",
   "execution_count": 504,
   "metadata": {},
   "outputs": [
    {
     "data": {
      "text/plain": [
       "dict_keys(['gozzila', 'grande2', 'grande1', 'mediano3', 'mediano2', 'mediano1', 'pequeño4', 'pequeño3', 'pequeño2', 'pequeño1'])"
      ]
     },
     "execution_count": 504,
     "metadata": {},
     "output_type": "execute_result"
    }
   ],
   "source": [
    "flota.keys()"
   ]
  },
  {
   "cell_type": "code",
   "execution_count": 505,
   "metadata": {},
   "outputs": [
    {
     "data": {
      "text/plain": [
       "dict_values([4, 3, 3, 2, 2, 2, 1, 1, 1, 1])"
      ]
     },
     "execution_count": 505,
     "metadata": {},
     "output_type": "execute_result"
    }
   ],
   "source": [
    "flota.values()"
   ]
  },
  {
   "cell_type": "code",
   "execution_count": 535,
   "metadata": {},
   "outputs": [],
   "source": [
    "# ICONOGRAFIA DEL JUEGO\n",
    "mar = \".\"\n",
    "barco = \"b\" \n",
    "disparo_fallado = \"-\"\n",
    "disparo_acertado = \"X\"\n",
    "jugador_1 = \"J1\"\n",
    "jugador_2 = \"J2\"\n"
   ]
  },
  {
   "cell_type": "code",
   "execution_count": 1,
   "metadata": {},
   "outputs": [
    {
     "data": {
      "text/plain": [
       "['.', '.', '.', '.', '.', '.', '.', '.', '.', '.']"
      ]
     },
     "execution_count": 1,
     "metadata": {},
     "output_type": "execute_result"
    }
   ],
   "source": [
    "fila = [\".\" for _ in range(10)]\n",
    "fila"
   ]
  },
  {
   "cell_type": "code",
   "execution_count": 541,
   "metadata": {},
   "outputs": [],
   "source": [
    "# CREA EL TABLERO 10x10\n",
    "def crear_tablero():\n",
    "  [[\".\" for _ in range(10)] for _ in range(10)]"
   ]
  },
  {
   "cell_type": "code",
   "execution_count": 544,
   "metadata": {},
   "outputs": [],
   "source": [
    "# FUNCION SALIR\n",
    "def salir():\n",
    "    print(\"Has salido del juego\")\n"
   ]
  },
  {
   "cell_type": "code",
   "execution_count": 449,
   "metadata": {},
   "outputs": [],
   "source": [
    "def añadir_flota(tablero, largura):\n",
    "    tablero = tablero_1\n",
    "    largura = largura\n",
    "\n",
    "    \n",
    "    while True:\n",
    "\n",
    "        fila = int(random.randint(0, 9)) \n",
    "        columna = int(random.randint(0, 9))\n",
    "        \n",
    "    \n",
    "        if tablero[fila][columna] == '.':\n",
    "            break\n",
    "\n",
    "\n",
    "    \n",
    "    while True:\n",
    "        \n",
    "        orientacion = random.choice([\"norte\", \"sur\", \"este\", \"oeste\"])\n",
    "        #orientacion = \"este\"\n",
    "            \n",
    "            \n",
    "\n",
    "        #if eslora == 1: # Si la eslora es 1.\n",
    "            #tablero_1[fila][columna] = \"b\"\n",
    "            #break\n",
    "            \n",
    "        if orientacion == \"norte\":\n",
    "            if (fila - largura)>= 0:\n",
    "                for i in range(largura): # Bucle que lea la eslora y añada en la dirección norte\n",
    "                    \n",
    "                    #if 0 >= fila-i < 9 and 0 <= columna < 9:\n",
    "                    tablero_1[fila - i][columna] = \"b\"\n",
    "                return tablero_1\n",
    "            else:\n",
    "                fila = int(random.randint(0, 9)) \n",
    "                columna = int(random.randint(0, 9))\n",
    "\n",
    "            \n",
    "        elif orientacion == \"sur\": \n",
    "            if (fila + largura) <= 9:\n",
    "                for i in range(largura):\n",
    "                    \n",
    "                    tablero_1[fila + i][columna] = \"b\"\n",
    "                return tablero_1\n",
    "            else:\n",
    "                fila = int(random.randint(0, 9)) \n",
    "                columna = int(random.randint(0, 9))\n",
    "            \n",
    "        elif orientacion == \"este\":\n",
    "            if (columna + largura) <= 9:\n",
    "                for i in range(largura):\n",
    "                    tablero_1[fila][columna + i] = \"b\"\n",
    "                return tablero_1\n",
    "            else:\n",
    "                fila = int(random.randint(0, 9)) \n",
    "                columna = int(random.randint(0, 9))\n",
    "            \n",
    "        else:\n",
    "            if (columna + largura) >= 0:\n",
    "                for i in range(largura):\n",
    "                    if 0 >= fila < 9 and 0 <= columna -i < 9:\n",
    "                        tablero_1[fila][columna - i] = \"b\"\n",
    "            else:\n",
    "                fila = int(random.randint(0, 9)) \n",
    "                columna = int(random.randint(0, 9))\n"
   ]
  },
  {
   "cell_type": "code",
   "execution_count": 523,
   "metadata": {},
   "outputs": [],
   "source": [
    "def good_orientation (fila, columna, tablero):\n",
    "    if tablero[fila][columna] == '.':\n",
    "        return True\n",
    " \n",
    "#luego en el otro si la celda es valida true, sino False y genera otra vez orientacion\n",
    "\n",
    "        "
   ]
  },
  {
   "cell_type": "code",
   "execution_count": 545,
   "metadata": {},
   "outputs": [],
   "source": [
    "# FUNCION QUE AÑADE LA FLOTA DE MANERA ALEATORIA\n",
    "\n",
    "def añadir_flota(tablero, largura):\n",
    "    largura = largura\n",
    "\n",
    "    while True:\n",
    "        fila = int(random.randint(0, 9)) \n",
    "        columna = int(random.randint(0, 9))\n",
    "\n",
    "        if tablero[fila][columna] == '.':\n",
    "            break  # Encuentra una casilla vacía para comenzar\n",
    "    \n",
    "    while True:\n",
    "        orientacion = random.choice([\"norte\", \"sur\", \"este\", \"oeste\"])  # Seleccionar orientación aleatoria\n",
    "\n",
    "        # Llamamos a la función good_orientation para que lo verifique.\n",
    "        if good_orientation(fila, columna, largura, orientacion, tablero):\n",
    "            if orientacion == \"norte\":\n",
    "                for i in range(largura):\n",
    "                    tablero[fila - i][columna] = 'b' # Colocar barco\n",
    "                     \n",
    "            elif orientacion == \"sur\":\n",
    "                for i in range(largura):\n",
    "                    tablero[fila + i][columna] = 'b'\n",
    "\n",
    "            elif orientacion == \"este\":\n",
    "                for i in range(largura):\n",
    "                    tablero[fila][columna + i] = 'b'\n",
    "\n",
    "            elif orientacion == \"oeste\":\n",
    "                for i in range(largura):\n",
    "                    tablero[fila][columna - i] = 'b'\n",
    "\n",
    "            return tablero  # Termina la función si el barco ha sido colocado\n",
    "        \n",
    "        else:\n",
    "            # Si la orientación no es válida, intenta de nuevo con nuevas coordenadas\n",
    "            fila = int(random.randint(0, 9)) \n",
    "            columna = int(random.randint(0, 9))\n"
   ]
  },
  {
   "cell_type": "code",
   "execution_count": 546,
   "metadata": {},
   "outputs": [],
   "source": [
    "# FUNCION QUE ACOTA MÁRGENES DEL TABLERO Y SUPERPOSICIONES DE LOS BARCOS\n",
    "\n",
    "def good_orientation(fila, columna, largura, orientacion, tablero):\n",
    "    if orientacion == \"norte\":\n",
    "\n",
    "        if fila - largura + 1 < 0:  # Verifica que no se sale del tablero al norte.\n",
    "            return False #Porque en la función añadir barcos solo se ejecuta y finalia while True.\n",
    "        \n",
    "        for i in range(largura):\n",
    "            if tablero[fila - i][columna] != '.':  # Comprueba cada casilla para que sea desigual a \"b\"\n",
    "                return False\n",
    "                \n",
    "    elif orientacion == \"sur\":\n",
    "        if fila + largura - 1 > 9:  # Verifica que no se sale del tablero al sur \n",
    "            return False\n",
    "        for i in range(largura):\n",
    "            if tablero[fila + i][columna] != '.':\n",
    "                return False\n",
    "\n",
    "    elif orientacion == \"este\":\n",
    "        if columna + largura + 1 > 9: # Verifica que no se sale del tablero al este\n",
    "            return False\n",
    "        for i in range(largura):\n",
    "            if tablero[fila][columna + i] != '.':\n",
    "                return False\n",
    "\n",
    "    elif orientacion == \"oeste\": \n",
    "        if columna - largura + 1 < 0:  \n",
    "            return False\n",
    "        for i in range(largura):\n",
    "            if tablero[fila][columna - i] != '.':\n",
    "                return False\n",
    "\n",
    "    return True  # Si todas las posiciones son válidas\n"
   ]
  },
  {
   "cell_type": "code",
   "execution_count": 522,
   "metadata": {},
   "outputs": [
    {
     "data": {
      "text/plain": [
       "[['.', 'b', 'b', '.', '.', '.', '.', '.', '.', '.'],\n",
       " ['.', '.', '.', 'b', '.', '.', '.', '.', '.', '.'],\n",
       " ['b', '.', '.', '.', '.', '.', 'b', 'b', '.', '.'],\n",
       " ['.', '.', '.', '.', '.', '.', '.', '.', '.', '.'],\n",
       " ['.', '.', '.', '.', 'b', '.', '.', '.', '.', '.'],\n",
       " ['.', '.', 'b', '.', 'b', '.', 'b', 'b', '.', '.'],\n",
       " ['.', '.', 'b', '.', 'b', '.', 'b', '.', '.', '.'],\n",
       " ['.', '.', 'b', '.', '.', '.', 'b', '.', '.', '.'],\n",
       " ['.', '.', '.', '.', '.', '.', 'b', '.', '.', '.'],\n",
       " ['.', 'b', 'b', '.', '.', '.', 'b', '.', '.', '.']]"
      ]
     },
     "execution_count": 522,
     "metadata": {},
     "output_type": "execute_result"
    }
   ],
   "source": [
    "tablero_1 = [[\".\" for _ in range(10)] for _ in range(10)]\n",
    "\n",
    "for largura in flota.values():\n",
    "    añadir_flota(tablero_1, largura)\n",
    "tablero_1"
   ]
  },
  {
   "cell_type": "code",
   "execution_count": 532,
   "metadata": {},
   "outputs": [],
   "source": [
    "# FUNCION DISPARAR\n",
    "\n",
    "def disparar_barcos():\n",
    "\n",
    "    fila = int(input(\"Introduce el número de la fila, un número del 0 al 9:\"))\n",
    "    columna = int(input(\"Introduce el número de la columna, un número del 0 al 9:\"))\n",
    "    tablero = tablero\n",
    "\n",
    "    if 0 <= fila < 10 and 0 <= columna < 10:\n",
    "\n",
    "        if tablero[fila][columna] == \"b\":\n",
    "                print(\"Le has dado!\")\n",
    "                tablero[fila][columna] = \"X\"\n",
    "        \n",
    "        else:\n",
    "            print(\"Agua!\")\n",
    "            tablero[fila][columna] = \"-\"\n",
    "\n",
    "    return tablero\n",
    "        "
   ]
  },
  {
   "cell_type": "code",
   "execution_count": null,
   "metadata": {},
   "outputs": [],
   "source": [
    "# FUNCIÓN DISPARAR AUTOMÁTICO\n",
    "\n",
    "def disparo_automatico(tablero):\n",
    "    \n",
    "    while True:\n",
    "        fila = random.randint(0, 9)\n",
    "        columna = random.randint(0, 9)\n",
    "        \n",
    "        if tablero[fila][columna] == \"b\":\n",
    "                print(\"Te has dado!\")\n",
    "                tablero[fila][columna] = \"X\"\n",
    "        \n",
    "        else:\n",
    "            print(\"Agua! Te has librado\")\n",
    "            tablero[fila][columna] = \"-\"\n",
    "\n",
    "            return fila, columna"
   ]
  },
  {
   "cell_type": "code",
   "execution_count": 550,
   "metadata": {},
   "outputs": [],
   "source": [
    "# FUNCION JUGAR\n",
    "def jugar():\n",
    "    tablero_j1 = crear_tablero()\n",
    "    tablero_j2 = crear_tablero()\n",
    "    \n",
    "    for nombre_barco, largura in flota.items():\n",
    "        añadir_flota(tablero_j1, largura)\n",
    "        añadir_flota(tablero_j2, largura)\n"
   ]
  }
 ],
 "metadata": {
  "kernelspec": {
   "display_name": "Python 3",
   "language": "python",
   "name": "python3"
  },
  "language_info": {
   "codemirror_mode": {
    "name": "ipython",
    "version": 3
   },
   "file_extension": ".py",
   "mimetype": "text/x-python",
   "name": "python",
   "nbconvert_exporter": "python",
   "pygments_lexer": "ipython3",
   "version": "3.9.6"
  }
 },
 "nbformat": 4,
 "nbformat_minor": 2
}
